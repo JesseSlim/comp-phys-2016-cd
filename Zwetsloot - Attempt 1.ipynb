{
 "cells": [
  {
   "cell_type": "code",
   "execution_count": 244,
   "metadata": {
    "collapsed": true
   },
   "outputs": [],
   "source": [
    "# Loading of libraries\n",
    "import numpy as np\n",
    "import scipy.spatial.distance"
   ]
  },
  {
   "cell_type": "code",
   "execution_count": 260,
   "metadata": {
    "collapsed": false
   },
   "outputs": [],
   "source": [
    "# Design variables\n",
    "AverageRadius            = 1\n",
    "DeviationRadius          = AverageRadius / 10\n",
    "ParticleCount            = 20\n",
    "Viscosity                = 1E3\n",
    "ViscosityR               = 32 / 3 * Viscosity\n",
    "RotationalViscoisty      = 1E3\n",
    "RotationalViscoistyR     = 4 * np.pi * RotationalViscoisty\n",
    "NeighbourDistance        = 2.7 * AverageRadius\n",
    "SpringConstant           = 1\n",
    "Chi                      = 1         # Rotational viscosity    - 1 in natural units\n",
    "Zeta                     = 1         # Translational visocsity - 1 in natural units\n",
    "k                        = 1         # Sprint constant         - 1 in natural units\n",
    "\n",
    "# Simulation variables\n",
    "TimeStep                 = 0.01\n",
    "L_align                  = 0.1       # Range from 0.1 to 1\n",
    "L_noise                   = 0.04      # Range from 0.04 to 0.08\n",
    "L_F_in                   = 0.3\n",
    "L_T_in                   = 3\n",
    "L_self                   = 0.03\n",
    "T_align                  = L_align * k * Chi / Zeta\n",
    "T_noise                  = np.sqrt(L_noise / Zeta / TimeStep * 2 * k * Chi**2)\n",
    "F_in                     = L_F_in * AverageRadius * k\n",
    "T_in                     = L_T_in * Chi * k / Zeta\n",
    "F_self                   = L_self * k * AverageRadius\n",
    "\n",
    "\n",
    "# Initiate the pengiuins\n",
    "Radius                   = np.random.normal(AverageRadius, DeviationRadius, ParticleCount)\n",
    "Location                 = (np.vstack((\n",
    "                             np.tile(np.arange(0,10), ParticleCount / 10) * 1,\n",
    "                             np.repeat(np.arange(0,ParticleCount / 10), 10) * 1\n",
    "                           ))).T# + np.random.normal(0,1,(ParticleCount,2))\n",
    "Velocity                 = np.zeros([ParticleCount, 2])\n",
    "Orientation              = np.ones(ParticleCount) * np.pi / 2 + np.random.uniform(-pi/4, pi/4, ParticleCount)\n",
    "Rotation                 = np.zeros(ParticleCount)\n"
   ]
  },
  {
   "cell_type": "code",
   "execution_count": 301,
   "metadata": {
    "collapsed": false
   },
   "outputs": [],
   "source": [
    "## This function calculates the force on the particles:\n",
    "# ParticleRadius  = Radius of the particle\n",
    "# ViscosityR      = Scaled viscosity of the system\n",
    "# Velocity        = Velocity of the particle\n",
    "# NeighbourRadius = Radius in which Neighbours can be found\n",
    "def ParticleForce(ParticleRadius, Orientation, NeighbourRadius):\n",
    "    # Particle force = Self-Propulsion + Boundary + Repulsion\n",
    "    Heaviside       = piecewise(NeighbourRadius,\n",
    "                          [NeighbourRadius < pi, NeighbourRadius > np.pi],\n",
    "                          [0, 1])\n",
    "    PropulsionForce = F_self * Orientation\n",
    "    BoundaryForce   = (NeighbourRadius - np.pi) * F_in * Heaviside * Orientation\n",
    "    RepulsionForce  = SpringConstant * sum(NeighbourOverlap)\n",
    "    \n",
    "    return PropulsionForce + BoundaryForce + RepulsionForce\n",
    "\n",
    "    \n",
    "def ParticleTorque(ParticleRadius, RotationalViscoistyR, Rotation):\n",
    "    Heaviside      = piecewise(NeighbourRadius,\n",
    "                          [NeighbourRadius < pi, NeighbourRadius > np.pi],\n",
    "                          [0, 1])\n",
    "    # Particletorque = Self-Torque + Noise + Align\n",
    "    BoundaryToruqe = T_in * deltaTheta * Heaviside\n",
    "    NoiseTorque    = T_noise * random(-1,1,1)\n",
    "    AlignTorque    = T_align * sum(Theta_neighbour_mismatch)\n",
    "    \n",
    "    return BoundaryTorque + NoiseTorque + AlignTorque\n",
    "\n",
    "\n",
    "## This functions creates a list of neighbours for all particles\n",
    "#  ParticleLocations is the Nx2 array containing the locations of the particles\n",
    "def NeighbourList(Location):\n",
    "    Distances = scipy.spatial.distance.squareform(scipy.spatial.distance.pdist(Location))\n",
    "    Neighbours = np.nonzero(Distances + np.diag(np.ones(Location.shape[0]) * 3) < 2.7);\n",
    "    return Neighbours\n",
    "    \n",
    "def NeighbourRadius(Location, Neighbours, ParticleCount):\n",
    "    Angles = np.arctan2(\n",
    "        Location[Neighbours[0],1] - Location[Neighbours[1],1],\n",
    "        Location[Neighbours[0],0] - Location[Neighbours[1],0],\n",
    "    )\n",
    "    AvgAngle = np.zeros([ParticleCount])\n",
    "    for i in range(0, ParticleCount):\n",
    "        AnglesT = Neighbours[0] == i\n",
    "        print(np.sum(AnglesT))\n",
    "        A = np.nonzero(AnglesT)[0];\n",
    "        print(A)\n",
    "        print(Neighbours[0, np.nonzero(AnglesT)])\n",
    "        print(Angles[A])\n",
    "        AvgAngle[i] = np.sum(Angles[A]) / np.sum(AnglesT);\n",
    "    print(AvgAngle)\n",
    "    return;"
   ]
  },
  {
   "cell_type": "code",
   "execution_count": 303,
   "metadata": {
    "collapsed": false
   },
   "outputs": [
    {
     "name": "stdout",
     "output_type": "stream",
     "text": [
      "(array([ 0,  0,  0,  0,  0,  1,  1,  1,  1,  1,  1,  1,  2,  2,  2,  2,  2,\n",
      "        2,  2,  2,  2,  3,  3,  3,  3,  3,  3,  3,  3,  3,  4,  4,  4,  4,\n",
      "        4,  4,  4,  4,  4,  5,  5,  5,  5,  5,  5,  5,  5,  5,  6,  6,  6,\n",
      "        6,  6,  6,  6,  6,  6,  7,  7,  7,  7,  7,  7,  7,  7,  7,  8,  8,\n",
      "        8,  8,  8,  8,  8,  9,  9,  9,  9,  9, 10, 10, 10, 10, 10, 11, 11,\n",
      "       11, 11, 11, 11, 11, 12, 12, 12, 12, 12, 12, 12, 12, 12, 13, 13, 13,\n",
      "       13, 13, 13, 13, 13, 13, 14, 14, 14, 14, 14, 14, 14, 14, 14, 15, 15,\n",
      "       15, 15, 15, 15, 15, 15, 15, 16, 16, 16, 16, 16, 16, 16, 16, 16, 17,\n",
      "       17, 17, 17, 17, 17, 17, 17, 17, 18, 18, 18, 18, 18, 18, 18, 19, 19,\n",
      "       19, 19, 19], dtype=int64), array([ 1,  2, 10, 11, 12,  0,  2,  3, 10, 11, 12, 13,  0,  1,  3,  4, 10,\n",
      "       11, 12, 13, 14,  1,  2,  4,  5, 11, 12, 13, 14, 15,  2,  3,  5,  6,\n",
      "       12, 13, 14, 15, 16,  3,  4,  6,  7, 13, 14, 15, 16, 17,  4,  5,  7,\n",
      "        8, 14, 15, 16, 17, 18,  5,  6,  8,  9, 15, 16, 17, 18, 19,  6,  7,\n",
      "        9, 16, 17, 18, 19,  7,  8, 17, 18, 19,  0,  1,  2, 11, 12,  0,  1,\n",
      "        2,  3, 10, 12, 13,  0,  1,  2,  3,  4, 10, 11, 13, 14,  1,  2,  3,\n",
      "        4,  5, 11, 12, 14, 15,  2,  3,  4,  5,  6, 12, 13, 15, 16,  3,  4,\n",
      "        5,  6,  7, 13, 14, 16, 17,  4,  5,  6,  7,  8, 14, 15, 17, 18,  5,\n",
      "        6,  7,  8,  9, 15, 16, 18, 19,  6,  7,  8,  9, 16, 17, 19,  7,  8,\n",
      "        9, 17, 18], dtype=int64))\n",
      "5\n",
      "[0 1 2 3 4]\n"
     ]
    },
    {
     "ename": "TypeError",
     "evalue": "tuple indices must be integers or slices, not tuple",
     "output_type": "error",
     "traceback": [
      "\u001b[1;31m---------------------------------------------------------------------------\u001b[0m",
      "\u001b[1;31mTypeError\u001b[0m                                 Traceback (most recent call last)",
      "\u001b[1;32m<ipython-input-303-aa3e016dfe7b>\u001b[0m in \u001b[0;36m<module>\u001b[1;34m()\u001b[0m\n\u001b[0;32m      1\u001b[0m \u001b[0mNeighbours\u001b[0m \u001b[1;33m=\u001b[0m \u001b[0mNeighbourList\u001b[0m\u001b[1;33m(\u001b[0m\u001b[0mLocation\u001b[0m\u001b[1;33m)\u001b[0m\u001b[1;33m\u001b[0m\u001b[0m\n\u001b[0;32m      2\u001b[0m \u001b[0mprint\u001b[0m\u001b[1;33m(\u001b[0m\u001b[0mNeighbours\u001b[0m\u001b[1;33m)\u001b[0m\u001b[1;33m\u001b[0m\u001b[0m\n\u001b[1;32m----> 3\u001b[1;33m \u001b[0mNeighbourRadius\u001b[0m\u001b[1;33m(\u001b[0m\u001b[0mLocation\u001b[0m\u001b[1;33m,\u001b[0m \u001b[0mNeighbours\u001b[0m\u001b[1;33m,\u001b[0m \u001b[0mParticleCount\u001b[0m\u001b[1;33m)\u001b[0m\u001b[1;33m;\u001b[0m\u001b[1;33m\u001b[0m\u001b[0m\n\u001b[0m\u001b[0;32m      4\u001b[0m \u001b[1;31m#print(Location[[Neighbours[0]],:])\u001b[0m\u001b[1;33m\u001b[0m\u001b[1;33m\u001b[0m\u001b[0m\n\u001b[0;32m      5\u001b[0m \u001b[1;31m#print(Neighbours);\u001b[0m\u001b[1;33m\u001b[0m\u001b[1;33m\u001b[0m\u001b[0m\n",
      "\u001b[1;32m<ipython-input-301-fb0478d3b66a>\u001b[0m in \u001b[0;36mNeighbourRadius\u001b[1;34m(Location, Neighbours, ParticleCount)\u001b[0m\n\u001b[0;32m     46\u001b[0m         \u001b[0mA\u001b[0m \u001b[1;33m=\u001b[0m \u001b[0mnp\u001b[0m\u001b[1;33m.\u001b[0m\u001b[0mnonzero\u001b[0m\u001b[1;33m(\u001b[0m\u001b[0mAnglesT\u001b[0m\u001b[1;33m)\u001b[0m\u001b[1;33m[\u001b[0m\u001b[1;36m0\u001b[0m\u001b[1;33m]\u001b[0m\u001b[1;33m;\u001b[0m\u001b[1;33m\u001b[0m\u001b[0m\n\u001b[0;32m     47\u001b[0m         \u001b[0mprint\u001b[0m\u001b[1;33m(\u001b[0m\u001b[0mA\u001b[0m\u001b[1;33m)\u001b[0m\u001b[1;33m\u001b[0m\u001b[0m\n\u001b[1;32m---> 48\u001b[1;33m         \u001b[0mprint\u001b[0m\u001b[1;33m(\u001b[0m\u001b[0mNeighbours\u001b[0m\u001b[1;33m[\u001b[0m\u001b[1;36m0\u001b[0m\u001b[1;33m,\u001b[0m \u001b[0mnp\u001b[0m\u001b[1;33m.\u001b[0m\u001b[0mnonzero\u001b[0m\u001b[1;33m(\u001b[0m\u001b[0mAnglesT\u001b[0m\u001b[1;33m)\u001b[0m\u001b[1;33m]\u001b[0m\u001b[1;33m)\u001b[0m\u001b[1;33m\u001b[0m\u001b[0m\n\u001b[0m\u001b[0;32m     49\u001b[0m         \u001b[0mprint\u001b[0m\u001b[1;33m(\u001b[0m\u001b[0mAngles\u001b[0m\u001b[1;33m[\u001b[0m\u001b[0mA\u001b[0m\u001b[1;33m]\u001b[0m\u001b[1;33m)\u001b[0m\u001b[1;33m\u001b[0m\u001b[0m\n\u001b[0;32m     50\u001b[0m         \u001b[0mAvgAngle\u001b[0m\u001b[1;33m[\u001b[0m\u001b[0mi\u001b[0m\u001b[1;33m]\u001b[0m \u001b[1;33m=\u001b[0m \u001b[0mnp\u001b[0m\u001b[1;33m.\u001b[0m\u001b[0msum\u001b[0m\u001b[1;33m(\u001b[0m\u001b[0mAngles\u001b[0m\u001b[1;33m[\u001b[0m\u001b[0mA\u001b[0m\u001b[1;33m]\u001b[0m\u001b[1;33m)\u001b[0m \u001b[1;33m/\u001b[0m \u001b[0mnp\u001b[0m\u001b[1;33m.\u001b[0m\u001b[0msum\u001b[0m\u001b[1;33m(\u001b[0m\u001b[0mAnglesT\u001b[0m\u001b[1;33m)\u001b[0m\u001b[1;33m;\u001b[0m\u001b[1;33m\u001b[0m\u001b[0m\n",
      "\u001b[1;31mTypeError\u001b[0m: tuple indices must be integers or slices, not tuple"
     ]
    }
   ],
   "source": [
    "Neighbours = NeighbourList(Location)\n",
    "NeighbourRadius(Location, Neighbours, ParticleCount);\n",
    "#print(Location[[Neighbours[0]],:])\n",
    "#print(Neighbours);\n",
    "\n",
    "max_steps = np.int(1E3);\n",
    "for step in range(0,max_steps):\n",
    "    Velocity = Velocity;"
   ]
  },
  {
   "cell_type": "code",
   "execution_count": null,
   "metadata": {
    "collapsed": true
   },
   "outputs": [],
   "source": []
  },
  {
   "cell_type": "code",
   "execution_count": null,
   "metadata": {
    "collapsed": true
   },
   "outputs": [],
   "source": []
  }
 ],
 "metadata": {
  "kernelspec": {
   "display_name": "Python 3",
   "language": "python",
   "name": "python3"
  },
  "language_info": {
   "codemirror_mode": {
    "name": "ipython",
    "version": 3
   },
   "file_extension": ".py",
   "mimetype": "text/x-python",
   "name": "python",
   "nbconvert_exporter": "python",
   "pygments_lexer": "ipython3",
   "version": "3.5.1"
  }
 },
 "nbformat": 4,
 "nbformat_minor": 0
}
