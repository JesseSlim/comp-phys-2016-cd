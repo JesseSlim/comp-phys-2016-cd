{
 "cells": [
  {
   "cell_type": "code",
   "execution_count": 1,
   "metadata": {
    "collapsed": true
   },
   "outputs": [],
   "source": [
    "# Loading of libraries\n",
    "import numpy as np\n",
    "import scipy.spatial.distance"
   ]
  },
  {
   "cell_type": "code",
   "execution_count": 190,
   "metadata": {
    "collapsed": false
   },
   "outputs": [],
   "source": [
    "# Design variables\n",
    "AverageRadius            = 1\n",
    "DeviationRadius          = AverageRadius / 10\n",
    "ParticleCount            = 20\n",
    "Viscosity                = 1E3\n",
    "ViscosityR               = 32 / 3 * Viscosity\n",
    "RotationalViscoisty      = 1E3\n",
    "RotationalViscoistyR     = 4 * np.pi * RotationalViscoisty\n",
    "NeighbourDistance        = 2.7 * AverageRadius\n",
    "SpringConstant           = 1\n",
    "Chi                      = 1         # Rotational viscosity    - 1 in natural units\n",
    "Zeta                     = 1         # Translational visocsity - 1 in natural units\n",
    "k                        = 1         # Sprint constant         - 1 in natural units\n",
    "\n",
    "# Simulation variables\n",
    "TimeStep                 = 0.01\n",
    "L_align                  = 0.1       # Range from 0.1 to 1\n",
    "L_noise                   = 0.04      # Range from 0.04 to 0.08\n",
    "L_F_in                   = 0.3\n",
    "L_T_in                   = 3\n",
    "L_self                   = 0.03\n",
    "T_align                  = L_align * k * Chi / Zeta\n",
    "T_noise                  = np.sqrt(L_noise / Zeta / TimeStep * 2 * k * Chi**2)\n",
    "F_in                     = L_F_in * AverageRadius * k\n",
    "T_in                     = L_T_in * Chi * k / Zeta\n",
    "F_self                   = L_self * k * AverageRadius\n",
    "\n",
    "\n",
    "# Initiate the pengiuins\n",
    "Radius                   = np.random.normal(AverageRadius, DeviationRadius, ParticleCount)\n",
    "Location                 = (np.vstack((\n",
    "                             np.tile(np.arange(0,10), ParticleCount / 10) * 10,\n",
    "                             np.repeat(np.arange(0,ParticleCount / 10), 10) * 10\n",
    "                           ))).T# + np.random.normal(0,1,(ParticleCount,2))\n",
    "Velocity                 = np.zeros([ParticleCount, 2])\n",
    "Orientation              = np.ones(ParticleCount) * np.pi / 2 + np.random.uniform(-pi/4, pi/4, ParticleCount)\n",
    "Rotation                 = np.zeros(ParticleCount)\n"
   ]
  },
  {
   "cell_type": "code",
   "execution_count": 191,
   "metadata": {
    "collapsed": false
   },
   "outputs": [],
   "source": [
    "## This function calculates the force on the particles:\n",
    "# ParticleRadius  = Radius of the particle\n",
    "# ViscosityR      = Scaled viscosity of the system\n",
    "# Velocity        = Velocity of the particle\n",
    "# NeighbourRadius = Radius in which Neighbours can be found\n",
    "def ParticleForce(ParticleRadius, Orientation, NeighbourRadius):\n",
    "    # Particle force = Self-Propulsion + Boundary + Repulsion\n",
    "    Heaviside       = piecewise(NeighbourRadius,\n",
    "                          [NeighbourRadius < pi, NeighbourRadius > np.pi],\n",
    "                          [0, 1])\n",
    "    PropulsionForce = F_self * Orientation\n",
    "    BoundaryForce   = (NeighbourRadius - np.pi) * F_in * Heaviside * Orientation\n",
    "    RepulsionForce  = SpringConstant * sum(NeighbourOverlap)\n",
    "    \n",
    "    return PropulsionForce + BoundaryForce + RepulsionForce\n",
    "\n",
    "    \n",
    "def ParticleTorque(ParticleRadius, RotationalViscoistyR, Rotation):\n",
    "    Heaviside      = piecewise(NeighbourRadius,\n",
    "                          [NeighbourRadius < pi, NeighbourRadius > np.pi],\n",
    "                          [0, 1])\n",
    "    # Particletorque = Self-Torque + Noise + Align\n",
    "    BoundaryToruqe = T_in * deltaTheta * Heaviside\n",
    "    NoiseTorque    = T_noise * random(-1,1,1)\n",
    "    AlignTorque    = T_align * sum(Theta_neighbour_mismatch)\n",
    "    \n",
    "    return BoundaryTorque + NoiseTorque + AlignTorque\n",
    "\n",
    "\n",
    "## This functions creates a list of neighbours for all particles\n",
    "#  ParticleLocations is the Nx2 array containing the locations of the particles\n",
    "def NeighbourList(Location):\n",
    "    Distances = scipy.spatial.distance.pdist(Location)\n",
    "    Neighbours = np.nonzero(Distances < 2.7);\n",
    "    return Neighbours\n",
    "    \n",
    "def NeighbourRadius(Location, Neighbours):\n",
    "    Distance = Location[Neightbours[:,0]] - Location[Neightbours[:,0]];\n",
    "    print(Distance);\n",
    "    return;"
   ]
  },
  {
   "cell_type": "code",
   "execution_count": 192,
   "metadata": {
    "collapsed": false
   },
   "outputs": [
    {
     "name": "stdout",
     "output_type": "stream",
     "text": [
      "(array([], dtype=int64), array([], dtype=int64))\n"
     ]
    }
   ],
   "source": [
    "Neightbours = NeighbourList(Location)\n",
    "Ne\n",
    "\n",
    "max_steps = np.int(1E3);\n",
    "for step in range(0,max_steps):\n",
    "    Velocity = Velocity;"
   ]
  },
  {
   "cell_type": "code",
   "execution_count": null,
   "metadata": {
    "collapsed": true
   },
   "outputs": [],
   "source": []
  }
 ],
 "metadata": {
  "kernelspec": {
   "display_name": "Python 3",
   "language": "python",
   "name": "python3"
  },
  "language_info": {
   "codemirror_mode": {
    "name": "ipython",
    "version": 3
   },
   "file_extension": ".py",
   "mimetype": "text/x-python",
   "name": "python",
   "nbconvert_exporter": "python",
   "pygments_lexer": "ipython3",
   "version": "3.5.1"
  }
 },
 "nbformat": 4,
 "nbformat_minor": 0
}
