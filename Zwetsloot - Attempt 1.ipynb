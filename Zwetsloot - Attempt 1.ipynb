{
 "cells": [
  {
   "cell_type": "code",
   "execution_count": 13,
   "metadata": {
    "collapsed": false
   },
   "outputs": [],
   "source": [
    "# Loading of libraries\n",
    "import numpy as np\n",
    "import scipy.spatial.distance\n",
    "import matplotlib.pyplot as plt\n",
    "from numba import jit\n",
    "\n",
    "%matplotlib inline"
   ]
  },
  {
   "cell_type": "code",
   "execution_count": 14,
   "metadata": {
    "collapsed": false
   },
   "outputs": [],
   "source": [
    "# Design variables\n",
    "AverageRadius            = 1\n",
    "DeviationRadius          = AverageRadius / 10\n",
    "ParticleCount            = 500\n",
    "Viscosity                = 1E3\n",
    "ViscosityR               = 32 / 3 * Viscosity\n",
    "RotationalViscoisty      = 1E3\n",
    "RotationalViscoistyR     = 4 * 3.1415 * RotationalViscoisty\n",
    "NeighbourDistance        = 2.7 * AverageRadius\n",
    "SpringConstant           = 1\n",
    "Chi                      = 1         # Rotational viscosity    - 1 in natural units\n",
    "Zeta                     = 1         # Translational visocsity - 1 in natural units\n",
    "k                        = 1         # Sprint constant         - 1 in natural units\n",
    "\n",
    "# Simulation variables\n",
    "TimeStep                 = 0.01\n",
    "L_align                  = 0.1       # Range from 0.1 to 1\n",
    "L_noise                   = 0.04      # Range from 0.04 to 0.08\n",
    "L_F_in                   = 0.3\n",
    "L_T_in                   = 3\n",
    "L_self                   = 0.03\n",
    "T_align                  = L_align * k * Chi / Zeta\n",
    "T_noise                  = np.sqrt(L_noise / Zeta / TimeStep * 2 * k * Chi**2)\n",
    "F_in                     = L_F_in * AverageRadius * k\n",
    "T_in                     = L_T_in * Chi * k / Zeta\n",
    "F_self                   = L_self * k * AverageRadius\n",
    "\n",
    "pi                       = 3.1415\n",
    "\n",
    "\n",
    "# Initiate the pengiuins\n",
    "Radius                   = np.random.normal(AverageRadius, DeviationRadius, ParticleCount)\n",
    "Location                 = (np.vstack((\n",
    "                             np.tile(np.arange(0,10), ParticleCount / 10) * 1,\n",
    "                             np.repeat(np.arange(0,ParticleCount / 10), 10) * 1\n",
    "                           ))).T# + np.random.normal(0,1,(ParticleCount,2))\n",
    "Velocity                 = np.zeros([ParticleCount, 2])\n",
    "Orientation              = np.ones(ParticleCount) * 3.1415 / 2 + np.random.uniform(-pi/4, pi/4, ParticleCount)\n",
    "AngularVelocity          = np.zeros(ParticleCount)\n"
   ]
  },
  {
   "cell_type": "code",
   "execution_count": null,
   "metadata": {
    "collapsed": false
   },
   "outputs": [],
   "source": [
    "@jit(['float64[:,:](float64[:], int64[:], float64[:], float64[:,:], float64, float64, float64)'])\n",
    "def ParticleForce(AngleRange, Boundary, Orientation, Overlap, F_self, F_in, k):\n",
    "    # Particle force = Self-Propulsion + Boundary + Repulsion\n",
    "    \n",
    "    Dir =  np.array([np.cos(Orientation), np.sin(Orientation)])\n",
    "    PropulsionForce = F_self * Dir\n",
    "    BoundaryForce   = F_in * (AngleRange - pi) * Boundary * Dir\n",
    "    RepulsionForce  = k * Overlap.T;\n",
    "    \n",
    "    return np.transpose(PropulsionForce + BoundaryForce + RepulsionForce)\n",
    "\n",
    "#@jit(['float64[:], float64[:], float64[:](float64[:], float64[:], int64[:], float64, float64, float64)'])\n",
    "def ParticleTorque(Orientation, AvgAngles, Boundary, T_in, T_noise, T_align):\n",
    "    # Particletorque = Self-Torque + Noise + Align\n",
    "    deltaTheta = Orientation - AvgAngles\n",
    "    BoundaryTorque = T_in * deltaTheta * Boundary\n",
    "    NoiseTorque    = T_noise * np.random.uniform(-1,1,Orientation.shape[0])\n",
    "    AlignTorque    = T_align * deltaTheta;\n",
    "    \n",
    "    return BoundaryTorque + NoiseTorque + AlignTorque\n",
    "\n",
    "## This functions creates a list of neighbours for all particles\n",
    "#  ParticleLocations is the Nx2 array containing the locations of the particles\n",
    "def NeighbourList(Location):\n",
    "    Distances = scipy.spatial.distance.squareform(scipy.spatial.distance.pdist(Location))\n",
    "    Neighbours = np.nonzero(Distances + np.diag(np.ones(Location.shape[0]) * 3) < 2.7);\n",
    "    return np.array(Neighbours, dtype='int64').T\n",
    "    \n",
    "def NeighbourRadius(Location, Neighbours):\n",
    "    Angles = np.arctan2(\n",
    "        Location[Neighbours[:,0],1] - Location[Neighbours[:,1],1],\n",
    "        Location[Neighbours[:,0],0] - Location[Neighbours[:,1],0],\n",
    "    )\n",
    "    AvgAngle   = np.zeros([Location.shape[0]])\n",
    "    Boundary   = np.zeros([Location.shape[0]])\n",
    "    AngleRange = np.zeros([Location.shape[0]])\n",
    "    for i in range(0, Location.shape[0]):\n",
    "        N = Neighbours[:,0] == i\n",
    "        A = np.array(np.nonzero(N)[0])\n",
    "        AvgAngle[i] = np.sum(Angles[A]) / np.sum(N)\n",
    "        if (A.size == 0):\n",
    "            continue\n",
    "        if (np.max(np.abs(Angles[A] - AvgAngle[i])) < 3.1415 / 2):\n",
    "            Boundary[i] = 1\n",
    "            AngleRange = np.max(Angles[A] - AvgAngle[i]) - np.min(Angles[A] - AvgAngle[i])\n",
    "        else:\n",
    "            Boundary[i] = 0\n",
    "    return AvgAngle, AngleRange, Boundary\n",
    "\n",
    "def NeighbourOverlap(Location, Neighbours, Radius):\n",
    "    Overlap = np.zeros([Location.shape[0],2])\n",
    "    for i in range(0,Location.shape[0]):\n",
    "        N = Neighbours[:,0] == i\n",
    "        Neigh = Neighbours[np.nonzero(N), 1]\n",
    "        Dir = Location[i,:] - Location[Neigh, :]\n",
    "        d = np.sqrt(np.sum(np.power(Dir, 2), axis=2))\n",
    "        # Overlap function between two circles\n",
    "        r = Radius[Neigh]\n",
    "        R = Radius[i]\n",
    "        A = r**2 * np.arccos((d**2 + r**2 - R**2) / (2*d*r))\n",
    "        A = A + R**2 * np.arccos((d**2 + R**2 - r**2) / (2*d*R))\n",
    "        A = A - 0.5 * np.sqrt((-d+r+R)*(d+r-R)*(d-r+R)*(d+r+R))\n",
    "        A = A * np.linalg.norm(Dir, axis=2)\n",
    "        A = A.T * Dir\n",
    "        A = np.sum(np.nan_to_num(A),axis=1)\n",
    "        Overlap[i,:] = A\n",
    "    return Overlap"
   ]
  },
  {
   "cell_type": "code",
   "execution_count": null,
   "metadata": {
    "collapsed": false
   },
   "outputs": [
    {
     "name": "stdout",
     "output_type": "stream",
     "text": [
      "0\n"
     ]
    },
    {
     "name": "stderr",
     "output_type": "stream",
     "text": [
      "C:\\Users\\sybre\\Anaconda3\\lib\\site-packages\\ipykernel\\__main__.py:60: RuntimeWarning: invalid value encountered in arccos\n",
      "C:\\Users\\sybre\\Anaconda3\\lib\\site-packages\\ipykernel\\__main__.py:61: RuntimeWarning: invalid value encountered in arccos\n",
      "C:\\Users\\sybre\\Anaconda3\\lib\\site-packages\\ipykernel\\__main__.py:62: RuntimeWarning: invalid value encountered in sqrt\n"
     ]
    },
    {
     "name": "stdout",
     "output_type": "stream",
     "text": [
      "100\n",
      "200\n",
      "300\n",
      "400\n"
     ]
    }
   ],
   "source": [
    "max_steps = np.int(1E5);\n",
    "\n",
    "Torque    = np.zeros([Location.shape[0]])\n",
    "Force     = np.zeros([Location.shape[0],2])\n",
    "\n",
    "for step in range(0,max_steps):\n",
    "    if (step%100 == 0):\n",
    "        print(step)\n",
    "    \n",
    "    Neighbours                       = NeighbourList(Location)\n",
    "    Boundary, AvgAngles, AngleRange  = NeighbourRadius(Location, Neighbours)\n",
    "    Overlap                          = NeighbourOverlap(Location, Neighbours, Radius)\n",
    "    \n",
    "    Torque[:]          = ParticleTorque(Orientation, AvgAngles, Boundary, T_in, T_noise, T_align)\n",
    "    AngularVelocity[:] = Torque / (Chi * Radius*Radius)\n",
    "    Orientation[:]     = Orientation[:] + TimeStep * AngularVelocity\n",
    "    \n",
    "    \n",
    "    Force[:,:]         = ParticleForce(AngleRange, Boundary, Orientation, Overlap, F_self, F_in, k)\n",
    "    Velocity[:,:]      = np.divide(Force, np.stack((Zeta * Radius,Zeta * Radius)).T)\n",
    "    Location[:,:]      = Location[:,:] + TimeStep * Velocity"
   ]
  },
  {
   "cell_type": "code",
   "execution_count": null,
   "metadata": {
    "collapsed": false
   },
   "outputs": [],
   "source": [
    "## Visulaization\n",
    "fig = plt.figure();\n",
    "plt.rcParams['figure.figsize'] = (25,25)\n",
    "ax = plt.gca();\n",
    "for i in range(Location.shape[0]):\n",
    "    circle = plt.Circle((Location[i,0], Location[i,1]), Radius[i], color='b', fill=False)\n",
    "    ax.add_artist(circle);\n",
    "    ax.arrow(\n",
    "        Location[i,0],\n",
    "        Location[i,1],\n",
    "        0.5 * np.cos(Orientation[i]),\n",
    "        0.5 * np.sin(Orientation[i]),\n",
    "        head_width = 0.5,\n",
    "        head_length = 0.5\n",
    "    )\n",
    "a = 1.5;\n",
    "xd = np.mean(Location[:,0]) - np.abs(np.mean(Location[:,0]) - np.min(Location[:,0])) * a\n",
    "xu = np.mean(Location[:,0]) + np.abs(np.mean(Location[:,0]) - np.max(Location[:,0])) * a\n",
    "yd = np.mean(Location[:,1]) - np.abs(np.mean(Location[:,1]) - np.min(Location[:,1])) * a\n",
    "yu = np.mean(Location[:,1]) + np.abs(np.mean(Location[:,1]) - np.max(Location[:,1])) * a\n",
    "\n",
    "xu = max(xu, yu);\n",
    "xd = min(xd, yd);\n",
    "ax.set_xlim(xd, xu)\n",
    "ax.set_ylim(xd, xu)\n",
    "plt.show()"
   ]
  },
  {
   "cell_type": "code",
   "execution_count": null,
   "metadata": {
    "collapsed": true
   },
   "outputs": [],
   "source": []
  }
 ],
 "metadata": {
  "kernelspec": {
   "display_name": "Python 3",
   "language": "python",
   "name": "python3"
  },
  "language_info": {
   "codemirror_mode": {
    "name": "ipython",
    "version": 3
   },
   "file_extension": ".py",
   "mimetype": "text/x-python",
   "name": "python",
   "nbconvert_exporter": "python",
   "pygments_lexer": "ipython3",
   "version": "3.5.1"
  }
 },
 "nbformat": 4,
 "nbformat_minor": 0
}
