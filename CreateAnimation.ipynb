{
 "cells": [
  {
   "cell_type": "code",
   "execution_count": null,
   "metadata": {
    "collapsed": true
   },
   "outputs": [],
   "source": [
    "%matplotlib inline\n",
    "\n",
    "import numpy as np\n",
    "import matplotlib.pyplot as plt\n",
    "import circles\n",
    "import os\n",
    "import time\n",
    "import sys\n",
    "from matplotlib.collections import LineCollection\n",
    "\n",
    "def print_fl(x):\n",
    "    print(x)\n",
    "    sys.stdout.flush()"
   ]
  },
  {
   "cell_type": "code",
   "execution_count": null,
   "metadata": {
    "collapsed": false
   },
   "outputs": [],
   "source": [
    "InFile = \"output-run-tumble.npz\"\n",
    "OutDir = \"run-tumble\"\n",
    "\n",
    "if not os.path.exists(OutDir):\n",
    "    os.makedirs(OutDir)"
   ]
  },
  {
   "cell_type": "code",
   "execution_count": null,
   "metadata": {
    "collapsed": true
   },
   "outputs": [],
   "source": [
    "Data = np.load(InFile)"
   ]
  },
  {
   "cell_type": "code",
   "execution_count": null,
   "metadata": {
    "collapsed": false
   },
   "outputs": [],
   "source": [
    "NumSteps = Data[\"SaveLocation\"].shape[0]\n",
    "\n",
    "ExtremeBorders = np.zeros((NumSteps, 2, 2))\n",
    "ExtremeBorders[:,0] = np.min(Data[\"SaveLocation\"], axis=1)\n",
    "ExtremeBorders[:,1] = np.max(Data[\"SaveLocation\"], axis=1)\n",
    "\n",
    "Centers = (ExtremeBorders[:,1,:] + ExtremeBorders[:,0,:])/2\n",
    "Sizes = ExtremeBorders[:,1,:] - ExtremeBorders[:,0,:]\n",
    "ExtremeSize = np.max(Sizes)\n",
    "\n",
    "ExtremePositions = np.zeros((2,2)) # minmax x dim\n",
    "ExtremePositions[0,:] = np.min(ExtremeBorders[:,0,:], axis=0)\n",
    "ExtremePositions[1,:] = np.max(ExtremeBorders[:,1,:], axis=0)\n",
    "MigrationReach = np.max(ExtremePositions[1,:] - ExtremePositions[0,:])\n",
    "MigrationCenter = (ExtremePositions[1,:] + ExtremePositions[0,:])/2"
   ]
  },
  {
   "cell_type": "code",
   "execution_count": null,
   "metadata": {
    "collapsed": false
   },
   "outputs": [],
   "source": [
    "plt.scatter(Centers[:,0], Centers[:,1])\n",
    "plt.xlim(MigrationCenter[0] + np.array([-1, 1]) * MigrationReach/2 * 1.1)\n",
    "plt.ylim(MigrationCenter[1] + np.array([-1, 1]) * MigrationReach/2 * 1.1)\n",
    "plt.gca().set_aspect('equal')"
   ]
  },
  {
   "cell_type": "code",
   "execution_count": null,
   "metadata": {
    "collapsed": false
   },
   "outputs": [],
   "source": [
    "SaveLocation = Data[\"SaveLocation\"]\n",
    "SaveOrientation = Data[\"SaveOrientation\"]\n",
    "Radius = Data[\"Radius\"]\n",
    "\n",
    "NumParticles = SaveLocation.shape[1]\n",
    "\n",
    "MarginFactorSheet = 1.1\n",
    "MarginFactorCloseup = 1.0\n",
    "\n",
    "t = 0\n",
    "\n",
    "plt.figure(figsize=(18,8))\n",
    "axSheet = plt.subplot(121, aspect='equal')\n",
    "circles.circles(SaveLocation[t,:,0], SaveLocation[t,:,1], Radius, fc='none')\n",
    "\n",
    "plt.xlim(MigrationCenter[0] + np.array([-1, 1]) * MigrationReach/2 * MarginFactorSheet)\n",
    "plt.ylim(MigrationCenter[1] + np.array([-1, 1]) * MigrationReach/2 * MarginFactorSheet)\n",
    "\n",
    "axCloseUp = plt.subplot(122, aspect='equal')\n",
    "circles.circles(SaveLocation[t,:,0], SaveLocation[t,:,1], Radius, fc='none')\n",
    "\n",
    "EndPoints = SaveLocation[t,:,:] + np.array([Radius * np.cos(SaveOrientation[t,:]), Radius * np.sin(SaveOrientation[t,:])]).T\n",
    "LineSegments = np.zeros((NumParticles, 2, 2))\n",
    "LineSegments[:,0,:] = SaveLocation[t,:,:]\n",
    "LineSegments[:,1,:] = EndPoints\n",
    "\n",
    "lines = LineCollection(LineSegments, color='k')\n",
    "axCloseUp.add_collection(lines)\n",
    "\n",
    "plt.xlim(Centers[t,0] + np.array([-1, 1]) * ExtremeSize/2 * MarginFactorCloseup)\n",
    "plt.ylim(Centers[t,1] + np.array([-1, 1]) * ExtremeSize/2 * MarginFactorCloseup)"
   ]
  },
  {
   "cell_type": "code",
   "execution_count": null,
   "metadata": {
    "collapsed": false
   },
   "outputs": [],
   "source": [
    "SaveLocation = Data[\"SaveLocation\"]\n",
    "SaveOrientation = Data[\"SaveOrientation\"]\n",
    "Radius = Data[\"Radius\"]\n",
    "\n",
    "NumParticles = SaveLocation.shape[1]\n",
    "\n",
    "MarginFactorSheet = 1.1\n",
    "MarginFactorCloseup = 1.0\n",
    "\n",
    "for t in range(NumSteps):\n",
    "    plt.figure(figsize=(18,8))\n",
    "    axSheet = plt.subplot(121, aspect='equal')\n",
    "    circles.circles(SaveLocation[t,:,0], SaveLocation[t,:,1], Radius, fc='none')\n",
    "\n",
    "    plt.xlim(MigrationCenter[0] + np.array([-1, 1]) * MigrationReach/2 * MarginFactorSheet)\n",
    "    plt.ylim(MigrationCenter[1] + np.array([-1, 1]) * MigrationReach/2 * MarginFactorSheet)\n",
    "\n",
    "    axCloseUp = plt.subplot(122, aspect='equal')\n",
    "    circles.circles(SaveLocation[t,:,0], SaveLocation[t,:,1], Radius, fc='none')\n",
    "\n",
    "    EndPoints = SaveLocation[t,:,:] + np.array([Radius * np.cos(SaveOrientation[t,:]), Radius * np.sin(SaveOrientation[t,:])]).T\n",
    "    LineSegments = np.zeros((NumParticles, 2, 2))\n",
    "    LineSegments[:,0,:] = SaveLocation[t,:,:]\n",
    "    LineSegments[:,1,:] = EndPoints\n",
    "\n",
    "    lines = LineCollection(LineSegments, color='k')\n",
    "    axCloseUp.add_collection(lines)\n",
    "\n",
    "    plt.xlim(Centers[t,0] + np.array([-1, 1]) * ExtremeSize/2 * MarginFactorCloseup)\n",
    "    plt.ylim(Centers[t,1] + np.array([-1, 1]) * ExtremeSize/2 * MarginFactorCloseup)\n",
    "    \n",
    "    plt.savefig(OutDir + (\"/frame-%08d.png\" % t), dpi=300)\n",
    "    plt.cla()\n",
    "    plt.clf()\n",
    "    plt.close()\n",
    "    if (t % (0.01) * NumSteps) < 1:\n",
    "        print_fl(\"Progress: %d%%\" % (t*100/NumSteps))"
   ]
  },
  {
   "cell_type": "code",
   "execution_count": null,
   "metadata": {
    "collapsed": false
   },
   "outputs": [],
   "source": []
  },
  {
   "cell_type": "code",
   "execution_count": null,
   "metadata": {
    "collapsed": false
   },
   "outputs": [],
   "source": [
    "plt.figure(figsize=(6,4))\n",
    "ax = plt.subplot(aspect='equal')\n",
    "\n",
    "#plot a set of circle\n",
    "a = np.arange(11)\n",
    "out = circles.circles(a, a, a*0.2, c=a, alpha=0.5, fc='none')\n",
    "plt.colorbar() \n",
    "#or colorbar(out)\n",
    "\n",
    "#plot a circle (the lower-right one)\n",
    "circles.circles(1, 0, 0.4, 'r', ls='--', lw=5, fc='none', transform=ax.transAxes)\n",
    "\n",
    "plt.xlim(0,10)\n",
    "plt.ylim(0,10)"
   ]
  },
  {
   "cell_type": "code",
   "execution_count": null,
   "metadata": {
    "collapsed": true
   },
   "outputs": [],
   "source": []
  }
 ],
 "metadata": {
  "kernelspec": {
   "display_name": "Python 3",
   "language": "python",
   "name": "python3"
  },
  "language_info": {
   "codemirror_mode": {
    "name": "ipython",
    "version": 3
   },
   "file_extension": ".py",
   "mimetype": "text/x-python",
   "name": "python",
   "nbconvert_exporter": "python",
   "pygments_lexer": "ipython3",
   "version": "3.5.1"
  }
 },
 "nbformat": 4,
 "nbformat_minor": 0
}
