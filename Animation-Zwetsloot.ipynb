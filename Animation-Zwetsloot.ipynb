{
 "cells": [
  {
   "cell_type": "code",
   "execution_count": 64,
   "metadata": {
    "collapsed": true
   },
   "outputs": [],
   "source": [
    "# Loading of libraries\n",
    "import numpy as np\n",
    "import scipy.spatial.distance\n",
    "import matplotlib.pyplot as plt\n",
    "from numba import jit, autojit\n",
    "import time\n",
    "import warnings\n",
    "import circles\n",
    "import scipy.io as sio\n",
    "\n",
    "%matplotlib inline"
   ]
  },
  {
   "cell_type": "code",
   "execution_count": 65,
   "metadata": {
    "collapsed": false
   },
   "outputs": [
    {
     "name": "stdout",
     "output_type": "stream",
     "text": [
      "['SaveOrientation', 'TimeStep', 'SaveLocation', 'Radius', 'L_noise', 'L_T_in', 'L_align', 'L_F_in', 'L_self']\n"
     ]
    }
   ],
   "source": [
    "Data = np.load('ZwetslootData1.npz');\n",
    "sio.savemat('output.mat', Data);\n",
    "print(Data.keys())\n",
    "Location = Data['SaveLocation'];\n",
    "Orientation = Data['SaveOrientation'];\n",
    "Radius = Data['Radius'];"
   ]
  },
  {
   "cell_type": "code",
   "execution_count": 60,
   "metadata": {
    "collapsed": true
   },
   "outputs": [],
   "source": [
    "@autojit\n",
    "def save_image(Location, Orientation, Radius, t, xmin, xmax, ymin, ymax):\n",
    "    fig = plt.figure(num=None, figsize=(30,20), dpi=100);\n",
    "    axSheet = plt.subplot(121, aspect='equal')\n",
    "    plt.scatter(Location[:,0], Location[:,1])\n",
    "    ax = plt.gca();\n",
    "    axCloseUp = plt.subplot(122, aspect='equal')\n",
    "    ax.set_xlim(xmin, xmax)\n",
    "    ax.set_ylim(ymin, ymax)\n",
    "    \n",
    "    ax = plt.gca()\n",
    "    for i in range(Location.shape[0]):\n",
    "        circle = plt.Circle((Location[i,0], Location[i,1]), Radius[i], color='b', fill=False)\n",
    "        ax.add_artist(circle);\n",
    "        ax.arrow(\n",
    "            Location[i,0],\n",
    "            Location[i,1],\n",
    "            0.5 * np.cos(Orientation[i]),\n",
    "            0.5 * np.sin(Orientation[i]),\n",
    "            head_width = 0.5,\n",
    "            head_length = 0.5\n",
    "        )\n",
    "    a = 1.5;\n",
    "    xd = np.mean(Location[:,0]) - np.abs(np.mean(Location[:,0]) - np.min(Location[:,0])) * a\n",
    "    xu = np.mean(Location[:,0]) + np.abs(np.mean(Location[:,0]) - np.max(Location[:,0])) * a\n",
    "    yd = np.mean(Location[:,1]) - np.abs(np.mean(Location[:,1]) - np.min(Location[:,1])) * a\n",
    "    yu = np.mean(Location[:,1]) + np.abs(np.mean(Location[:,1]) - np.max(Location[:,1])) * a\n",
    "    \n",
    "    ax.set_xlim(xd, xu)\n",
    "    ax.set_ylim(yd, yu)\n",
    "    \n",
    "    plt.savefig('images/image'+str(t)+'.png');\n",
    "    ax.cla();\n",
    "    fig.clf();\n",
    "    plt.clf();\n",
    "    plt.close();"
   ]
  },
  {
   "cell_type": "code",
   "execution_count": 61,
   "metadata": {
    "collapsed": false
   },
   "outputs": [
    {
     "name": "stdout",
     "output_type": "stream",
     "text": [
      "12.374629925926001\n"
     ]
    }
   ],
   "source": [
    "i = 0;\n",
    "xmin = np.min(Location[:,:,0]);\n",
    "xmax = np.max(Location[:,:,0]);\n",
    "ymin = np.min(Location[:,:,1]);\n",
    "ymax = np.max(Location[:,:,1]);\n",
    "\n",
    "start = time.clock();\n",
    "for i in range(10):\n",
    "    LocS = Location[i,:,:];\n",
    "    OrS = Orientation[i,:];\n",
    "    save_image(LocS, OrS, Radius, i, xmin, xmax, ymin, ymax)\n",
    "    \n",
    "print(time.clock() - start);"
   ]
  },
  {
   "cell_type": "code",
   "execution_count": null,
   "metadata": {
    "collapsed": true
   },
   "outputs": [],
   "source": [
    "## Visulaization\n",
    "fig = plt.figure(figsize=(20,20))\n",
    "ax = plt.gca();\n",
    "for i in range(Location.shape[0]):\n",
    "    circle = plt.Circle((Location[i,0], Location[i,1]), Radius[i], color='b', fill=False)\n",
    "    ax.add_artist(circle);\n",
    "    ax.arrow(\n",
    "        Location[i,0],\n",
    "        Location[i,1],\n",
    "        0.5 * np.cos(Orientation[i]),\n",
    "        0.5 * np.sin(Orientation[i]),\n",
    "        head_width = 0.5,\n",
    "        head_length = 0.5\n",
    "    )\n",
    "a = 1.5;\n",
    "xd = np.mean(Location[:,0]) - np.abs(np.mean(Location[:,0]) - np.min(Location[:,0])) * a\n",
    "xu = np.mean(Location[:,0]) + np.abs(np.mean(Location[:,0]) - np.max(Location[:,0])) * a\n",
    "yd = np.mean(Location[:,1]) - np.abs(np.mean(Location[:,1]) - np.min(Location[:,1])) * a\n",
    "yu = np.mean(Location[:,1]) + np.abs(np.mean(Location[:,1]) - np.max(Location[:,1])) * a\n",
    "\n",
    "ax.set_xlim(xd, xu)\n",
    "ax.set_ylim(yd, yu)\n",
    "plt.show()"
   ]
  }
 ],
 "metadata": {
  "kernelspec": {
   "display_name": "Python 3",
   "language": "python",
   "name": "python3"
  },
  "language_info": {
   "codemirror_mode": {
    "name": "ipython",
    "version": 3
   },
   "file_extension": ".py",
   "mimetype": "text/x-python",
   "name": "python",
   "nbconvert_exporter": "python",
   "pygments_lexer": "ipython3",
   "version": "3.5.1"
  }
 },
 "nbformat": 4,
 "nbformat_minor": 0
}
