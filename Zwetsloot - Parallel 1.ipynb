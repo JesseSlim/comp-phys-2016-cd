{
 "cells": [
  {
   "cell_type": "code",
   "execution_count": 1,
   "metadata": {
    "collapsed": true
   },
   "outputs": [],
   "source": [
    "# Loading of libraries\n",
    "import numpy as np\n",
    "import scipy.spatial.distance\n",
    "import matplotlib.pyplot as plt\n",
    "from numba import jit, autojit\n",
    "import time\n",
    "import warnings\n",
    "import circles\n",
    "\n",
    "%matplotlib inline\n",
    "\n",
    "from ipyparallel import Client"
   ]
  },
  {
   "cell_type": "code",
   "execution_count": 2,
   "metadata": {
    "collapsed": true
   },
   "outputs": [],
   "source": [
    "# Design variables\n",
    "AverageRadius            = 1\n",
    "DeviationRadius          = AverageRadius / 10\n",
    "ParticleCount            = 400\n",
    "NeighbourDistance        = 2.7 * AverageRadius\n",
    "SpringConstant           = 1\n",
    "Chi                      = 1         # Rotational viscosity    - 1 in natural units\n",
    "Zeta                     = 1         # Translational visocsity - 1 in natural units\n",
    "k                        = 1         # Sprint constant         - 1 in natural units\n",
    "\n",
    "# Simulation variables\n",
    "NeighbourCutoff          = 2.7\n",
    "TimeStep                 = 0.05\n",
    "L_align                  = 0.2       # Range from 0.1 to 1\n",
    "L_noise                  = 0.03      \n",
    "L_F_in                   = 0.3\n",
    "L_T_in                   = 3\n",
    "L_self                   = 0.07      #  Range from 0.04 to 0.08\n",
    "T_align                  = L_align * k * Chi / Zeta\n",
    "T_noise                  = np.sqrt(L_noise * 2 * k * Chi**2 / (TimeStep * Zeta))\n",
    "F_in                     = L_F_in * k * AverageRadius\n",
    "T_in                     = L_T_in * k * Chi / Zeta\n",
    "F_self                   = L_self * k * AverageRadius\n",
    "\n",
    "# Initiate the pengiuins\n",
    "InitialSpacing           = 2*AverageRadius\n",
    "Radius                   = np.random.normal(AverageRadius, DeviationRadius, ParticleCount)\n",
    "Location                 = np.array(np.vstack((\n",
    "                             np.tile(np.arange(0,10), ParticleCount / 10) * InitialSpacing,\n",
    "                             np.repeat(np.arange(0,ParticleCount / 10), 10) * InitialSpacing\n",
    "                           )), dtype=np.float64).T + np.random.normal(0,AverageRadius/10,(ParticleCount,2))\n",
    "Velocity                 = np.zeros((ParticleCount, 2))\n",
    "Orientation              = np.ones(ParticleCount) * np.pi / 2 + np.random.uniform(-np.pi/4, np.pi/4, ParticleCount)\n",
    "AngularVelocity          = np.zeros(ParticleCount)"
   ]
  },
  {
   "cell_type": "code",
   "execution_count": null,
   "metadata": {
    "collapsed": true
   },
   "outputs": [],
   "source": []
  }
 ],
 "metadata": {
  "kernelspec": {
   "display_name": "Python 3",
   "language": "python",
   "name": "python3"
  },
  "language_info": {
   "codemirror_mode": {
    "name": "ipython",
    "version": 3
   },
   "file_extension": ".py",
   "mimetype": "text/x-python",
   "name": "python",
   "nbconvert_exporter": "python",
   "pygments_lexer": "ipython3",
   "version": "3.5.1"
  }
 },
 "nbformat": 4,
 "nbformat_minor": 0
}
