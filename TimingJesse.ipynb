{
 "cells": [
  {
   "cell_type": "code",
   "execution_count": 3,
   "metadata": {
    "collapsed": false
   },
   "outputs": [],
   "source": [
    "# Loading of libraries\n",
    "import numpy as np\n",
    "import scipy.spatial.distance\n",
    "import matplotlib.pyplot as plt\n",
    "from numba import jit, vectorize, float64\n",
    "\n",
    "%matplotlib inline"
   ]
  },
  {
   "cell_type": "code",
   "execution_count": 131,
   "metadata": {
    "collapsed": false
   },
   "outputs": [
    {
     "name": "stdout",
     "output_type": "stream",
     "text": [
      "float64\n"
     ]
    }
   ],
   "source": [
    "# Design variables\n",
    "AverageRadius            = 1\n",
    "DeviationRadius          = AverageRadius / 10\n",
    "ParticleCount            = 500\n",
    "Viscosity                = 1E3\n",
    "ViscosityR               = 32 / 3 * Viscosity\n",
    "RotationalViscoisty      = 1E3\n",
    "RotationalViscoistyR     = 4 * np.pi * RotationalViscoisty\n",
    "NeighbourDistance        = 2.7 * AverageRadius\n",
    "SpringConstant           = 1\n",
    "Chi                      = 1         # Rotational viscosity    - 1 in natural units\n",
    "Zeta                     = 1         # Translational visocsity - 1 in natural units\n",
    "k                        = 1         # Sprint constant         - 1 in natural units\n",
    "\n",
    "# Simulation variables\n",
    "NeighbourCutoff          = 2.7\n",
    "TimeStep                 = 0.01\n",
    "L_align                  = 0.1       # Range from 0.1 to 1\n",
    "L_noise                 = 0.04      # Range from 0.04 to 0.08\n",
    "L_F_in                   = 0.3\n",
    "L_T_in                   = 3\n",
    "L_self                   = 0.03\n",
    "T_align                  = L_align * k * Chi / Zeta\n",
    "T_noise                  = np.sqrt(L_noise / Zeta / TimeStep * 2 * k * Chi**2)\n",
    "F_in                     = L_F_in * AverageRadius * k\n",
    "T_in                     = L_T_in * Chi * k / Zeta\n",
    "F_self                   = L_self * k * AverageRadius\n",
    "\n",
    "\n",
    "# Initiate the pengiuins\n",
    "Radius                   = np.random.normal(AverageRadius, DeviationRadius, ParticleCount)\n",
    "Location                 = (np.vstack((\n",
    "                             np.tile(np.arange(0,10), ParticleCount / 10) * 1,\n",
    "                             np.repeat(np.arange(0,ParticleCount / 10), 10) * 1\n",
    "                           ))).T# + np.random.normal(0,1,(ParticleCount,2))\n",
    "Velocity                 = np.zeros([ParticleCount, 2])\n",
    "Orientation              = np.ones(ParticleCount) * np.pi / 2 + np.random.uniform(-np.pi/4, np.pi/4, ParticleCount)\n",
    "AngularVelocity          = np.zeros(ParticleCount)\n"
   ]
  },
  {
   "cell_type": "code",
   "execution_count": null,
   "metadata": {
    "collapsed": true
   },
   "outputs": [],
   "source": [
    "@vectorize([float64(float64, float64)])\n",
    "def norm"
   ]
  },
  {
   "cell_type": "code",
   "execution_count": 195,
   "metadata": {
    "collapsed": false
   },
   "outputs": [],
   "source": [
    "def ParticleForce(AngleRange, Boundary, Orientation, Overlap, F_self, F_in, k):\n",
    "    # Particle force = Self-Propulsion + Boundary + Repulsion\n",
    "    \n",
    "    Dir =  np.array([np.cos(Orientation), np.sin(Orientation)])\n",
    "    PropulsionForce = F_self * Dir\n",
    "    BoundaryForce   = F_in * (AngleRange - pi) * Boundary * Dir\n",
    "    RepulsionForce  = k * Overlap.T;\n",
    "    \n",
    "    return np.transpose(PropulsionForce + BoundaryForce + RepulsionForce)\n",
    "\n",
    "#@jit(['float64[:], float64[:], float64[:](float64[:], float64[:], int64[:], float64, float64, float64)'])\n",
    "def ParticleTorque(Orientation, AvgAngles, Boundary, T_in, T_noise, T_align):\n",
    "    # Particletorque = Self-Torque + Noise + Align\n",
    "    deltaTheta = Orientation - AvgAngles\n",
    "    BoundaryTorque = T_in * deltaTheta * Boundary\n",
    "    NoiseTorque    = T_noise * np.random.uniform(-1,1,Orientation.shape[0])\n",
    "    AlignTorque    = T_align * deltaTheta;\n",
    "    \n",
    "    return BoundaryTorque + NoiseTorque + AlignTorque\n",
    "\n",
    "## This functions creates a list of neighbours for all particles\n",
    "#  ParticleLocations is the Nx2 array containing the locations of the particles\n",
    "def NeighbourMatrix(Location):\n",
    "    Distances = scipy.spatial.distance.squareform(scipy.spatial.distance.pdist(Location))\n",
    "    Neighbours = (Distances < NeighbourCutoff) & ~np.eye(Location.shape[0], dtype=np.bool);\n",
    "    return Neighbours\n",
    "    \n",
    "@jit(nopython=True)\n",
    "def NeighbourAngles(Location, Orientation, Neighbours):\n",
    "    n = Location.shape[0]\n",
    "    ThetaOut = np.zeros((n))\n",
    "    DeltaTheta = np.zeros((n))\n",
    "    for i in range(n):\n",
    "        # select neighbours\n",
    "        CurrentNeighbours = np.where(Neighbours[i,:])[0]\n",
    "        NumNeighbours = CurrentNeighbours.shape[0]\n",
    "        \n",
    "        if (NumNeighbours > 1):\n",
    "            # calculate angles between neighbours and order them\n",
    "            Offsets = Location[CurrentNeighbours,:] - Location[i,:]\n",
    "            Angles = np.arctan2(Offsets[:,1], Offsets[:,0]) % (2*np.pi)\n",
    "            SortedAngles = np.sort(Angles)\n",
    "            \n",
    "            # calculate angle differences between subsequent neighbours\n",
    "            DiffAngles = np.zeros((NumNeighbours))\n",
    "            # numba doesn't support roll unfortunately\n",
    "            for j in range(NumNeighbours):\n",
    "                DiffAngles[j] = ((SortedAngles[((j+1)%NumNeighbours)] - SortedAngles[j])) % (2*np.pi)\n",
    "            \n",
    "            # determine the largest gap in angles, which corresponds to theta-out\n",
    "            ThetaOut[i] = np.max(DiffAngles)\n",
    "            \n",
    "            # calculate the absolute angle of the theta-in direction\n",
    "            BoundaryNeighbour = np.argmax(DiffAngles)\n",
    "            ThetaIn = (SortedAngles[BoundaryNeighbour] - 0.5 * (2*np.pi - ThetaOut[i])) % (2*np.pi)\n",
    "            \n",
    "            # calculate signed angle difference between orientation and theta-in\n",
    "            DeltaTheta[i] = (ThetaIn - (Orientation[i] % (2*np.pi)))\n",
    "            DeltaTheta[i] = (DeltaTheta[i] + np.pi) % (2*np.pi) - np.pi\n",
    "    return ThetaOut, DeltaTheta\n",
    "            \n",
    "        \n",
    "\n",
    "def NeighbourOverlap(Location, Neighbours, Radius):\n",
    "    Overlap = np.zeros([Location.shape[0],2])\n",
    "    for i in range(0,Location.shape[0]):\n",
    "        N = Neighbours[:,0] == i\n",
    "        Neigh = Neighbours[np.nonzero(N), 1]\n",
    "        Dir = Location[i,:] - Location[Neigh, :]\n",
    "        d = np.sqrt(np.sum(np.power(Dir, 2), axis=2))\n",
    "        # Overlap function between two circles\n",
    "        r = Radius[Neigh]\n",
    "        R = Radius[i]\n",
    "        A = r**2 * np.arccos((d**2 + r**2 - R**2) / (2*d*r))\n",
    "        A = A + R**2 * np.arccos((d**2 + R**2 - r**2) / (2*d*R))\n",
    "        A = A - 0.5 * np.sqrt((-d+r+R)*(d+r-R)*(d-r+R)*(d+r+R))\n",
    "        A = A * np.linalg.norm(Dir, axis=2)\n",
    "        A = A.T * Dir\n",
    "        A = np.sum(np.nan_to_num(A),axis=1)\n",
    "        Overlap[i,:] = A\n",
    "    return Overlap"
   ]
  },
  {
   "cell_type": "markdown",
   "metadata": {},
   "source": [
    "    def NeighbourAngles(Location, Neighbours):\n",
    "        NeighbourOffset = (Location[np.newaxis,:,:] * Neighbours[:,:,np.newaxis]) - (Location[:,np.newaxis,:] * Neighbours[:,:,np.newaxis])\n",
    "        NeighbourMean = np.nan_to_num(np.sum(NeighbourOffset, axis=1)/(np.sum(Neighbours, axis=0)[:,np.newaxis] - 1))\n",
    "\n",
    "        AvgAngles = np.arctan2(NeighbourMean[:,1], NeighbourMean[:,0])\n",
    "\n",
    "\n",
    "        return NeighbourOffset, NeighbourMean, AvgAngles"
   ]
  },
  {
   "cell_type": "code",
   "execution_count": 205,
   "metadata": {
    "collapsed": false
   },
   "outputs": [
    {
     "name": "stdout",
     "output_type": "stream",
     "text": [
      "float64\n",
      "[[False  True  True False False False False False False False False]\n",
      " [ True False  True False False False False False False False False]\n",
      " [ True  True False False False False False False False False False]\n",
      " [False False False False  True False False False False False False]\n",
      " [False False False  True False False False False False False False]\n",
      " [False False False False False False  True  True False False False]\n",
      " [False False False False False  True False  True False False False]\n",
      " [False False False False False  True  True False False False False]\n",
      " [False False False False False False False False False  True  True]\n",
      " [False False False False False False False False  True False  True]\n",
      " [False False False False False False False False  True  True False]]\n",
      "[ 5.17603659  5.35589009  5.17603659  0.          0.          3.92699082\n",
      "  5.8195377   5.96143475  3.92699082  5.96143475  5.8195377 ]\n",
      "[ 0.55357436 -1.57079633  2.58801829  0.          0.         -1.17809725\n",
      " -2.90976885  0.62452289 -1.17809725  0.62452289 -2.90976885]\n",
      "0.553574358897\n",
      "-1.57079632679\n",
      "2.58801829469\n",
      "0.0\n",
      "0.0\n",
      "-1.1780972451\n",
      "-2.90976884909\n",
      "0.624522886199\n",
      "-1.1780972451\n",
      "0.624522886199\n",
      "-2.90976884909\n"
     ]
    },
    {
     "data": {
      "image/png": "[encoded data removed]",
      "text/plain": [
       "<matplotlib.figure.Figure at 0x103b76780>"
      ]
     },
     "metadata": {},
     "output_type": "display_data"
    }
   ],
   "source": [
    "TestLoc = np.array([\n",
    "        [0, 0],\n",
    "        [0.5, 1],\n",
    "        [1, 0],\n",
    "        [9, 9],\n",
    "        [8, 8],\n",
    "        [5, 5],\n",
    "        [6, 5],\n",
    "        [4, 4],\n",
    "        [15, 15],\n",
    "        [14, 14],\n",
    "        [16, 15]\n",
    "    ], dtype=np.float64)\n",
    "\n",
    "TestOrient = np.array([\n",
    "        0.0,\n",
    "        0.0,\n",
    "        0.0,\n",
    "        0.0,\n",
    "        0.0,\n",
    "        0.0,\n",
    "        0.0,\n",
    "        0.0,\n",
    "        0.0,\n",
    "        0.0,\n",
    "        0.0\n",
    "    ])\n",
    "\n",
    "print(TestLoc.dtype)\n",
    "\n",
    "TestNb = NeighbourMatrix(TestLoc)\n",
    "print(TestNb)\n",
    "\n",
    "TestTO, TestDT = NeighbourAngles(TestLoc, TestOrient, TestNb)\n",
    "print(TestTO)\n",
    "print(TestDT)\n",
    "\n",
    "plt.figure(figsize=(20,20))\n",
    "plt.scatter(TestLoc[:,0], TestLoc[:,1])\n",
    "plt.gca().set_aspect('equal')\n",
    "\n",
    "for i in range(TestLoc.shape[0]):\n",
    "    TIn = TestOrient[i] + TestDT[i]\n",
    "    print(TIn)\n",
    "    if(TestTO[i] > np.pi):\n",
    "        plt.arrow(TestLoc[i,0], TestLoc[i,1], np.cos(TIn)/2, np.sin(TIn)/2, head_width=0.2, head_length=0.2)\n",
    "plt.show()"
   ]
  },
  {
   "cell_type": "code",
   "execution_count": 206,
   "metadata": {
    "collapsed": false
   },
   "outputs": [
    {
     "name": "stdout",
     "output_type": "stream",
     "text": [
      "0\n"
     ]
    },
    {
     "ename": "TypeError",
     "evalue": "not enough arguments: expected 3, got 2",
     "output_type": "error",
     "traceback": [
      "\u001b[0;31m---------------------------------------------------------------------------\u001b[0m",
      "\u001b[0;31mTypeError\u001b[0m                                 Traceback (most recent call last)",
      "\u001b[0;32m<ipython-input-206-0b3a762a3650>\u001b[0m in \u001b[0;36m<module>\u001b[0;34m()\u001b[0m\n\u001b[1;32m      9\u001b[0m \u001b[0;34m\u001b[0m\u001b[0m\n\u001b[1;32m     10\u001b[0m     \u001b[0mNeighbours\u001b[0m                       \u001b[0;34m=\u001b[0m \u001b[0mNeighbourMatrix\u001b[0m\u001b[0;34m(\u001b[0m\u001b[0mLocation\u001b[0m\u001b[0;34m)\u001b[0m\u001b[0;34m\u001b[0m\u001b[0m\n\u001b[0;32m---> 11\u001b[0;31m     \u001b[0mBoundary\u001b[0m\u001b[0;34m,\u001b[0m \u001b[0mAvgAngles\u001b[0m\u001b[0;34m,\u001b[0m \u001b[0mAngleRange\u001b[0m  \u001b[0;34m=\u001b[0m \u001b[0mNeighbourAngles\u001b[0m\u001b[0;34m(\u001b[0m\u001b[0mLocation\u001b[0m\u001b[0;34m,\u001b[0m \u001b[0mNeighbours\u001b[0m\u001b[0;34m)\u001b[0m\u001b[0;34m\u001b[0m\u001b[0m\n\u001b[0m\u001b[1;32m     12\u001b[0m     \u001b[0mOverlap\u001b[0m                          \u001b[0;34m=\u001b[0m \u001b[0mNeighbourOverlap\u001b[0m\u001b[0;34m(\u001b[0m\u001b[0mLocation\u001b[0m\u001b[0;34m,\u001b[0m \u001b[0mNeighbours\u001b[0m\u001b[0;34m,\u001b[0m \u001b[0mRadius\u001b[0m\u001b[0;34m)\u001b[0m\u001b[0;34m\u001b[0m\u001b[0m\n\u001b[1;32m     13\u001b[0m \u001b[0;34m\u001b[0m\u001b[0m\n",
      "\u001b[0;31mTypeError\u001b[0m: not enough arguments: expected 3, got 2"
     ]
    }
   ],
   "source": [
    "max_steps = np.int(1E5);\n",
    "\n",
    "Torque    = np.zeros([Location.shape[0]])\n",
    "Force     = np.zeros([Location.shape[0],2])\n",
    "\n",
    "for step in range(0,max_steps):\n",
    "    if (step%100 == 0):\n",
    "        print(step)\n",
    "    \n",
    "    Neighbours                       = NeighbourMatrix(Location)\n",
    "    Boundary, AvgAngles, AngleRange  = NeighbourAngles(Location, Neighbours)\n",
    "    Overlap                          = NeighbourOverlap(Location, Neighbours, Radius)\n",
    "    \n",
    "    Torque[:]          = ParticleTorque(Orientation, AvgAngles, Boundary, T_in, T_noise, T_align)\n",
    "    AngularVelocity[:] = Torque / (Chi * Radius*Radius)\n",
    "    Orientation[:]     = Orientation[:] + TimeStep * AngularVelocity\n",
    "    \n",
    "    \n",
    "    Force[:,:]         = ParticleForce(AngleRange, Boundary, Orientation, Overlap, F_self, F_in, k)\n",
    "    Velocity[:,:]      = np.divide(Force, Zeta*Radius[:,np.newaxis])\n",
    "    Location[:,:]      = Location[:,:] + TimeStep * Velocity"
   ]
  },
  {
   "cell_type": "code",
   "execution_count": null,
   "metadata": {
    "collapsed": false
   },
   "outputs": [],
   "source": [
    "## Visulaization\n",
    "fig = plt.figure();\n",
    "plt.rcParams['figure.figsize'] = (25,25)\n",
    "ax = plt.gca();\n",
    "for i in range(Location.shape[0]):\n",
    "    circle = plt.Circle((Location[i,0], Location[i,1]), Radius[i], color='b', fill=False)\n",
    "    ax.add_artist(circle);\n",
    "    ax.arrow(\n",
    "        Location[i,0],\n",
    "        Location[i,1],\n",
    "        0.5 * np.cos(Orientation[i]),\n",
    "        0.5 * np.sin(Orientation[i]),\n",
    "        head_width = 0.5,\n",
    "        head_length = 0.5\n",
    "    )\n",
    "a = 1.5;\n",
    "xd = np.mean(Location[:,0]) - np.abs(np.mean(Location[:,0]) - np.min(Location[:,0])) * a\n",
    "xu = np.mean(Location[:,0]) + np.abs(np.mean(Location[:,0]) - np.max(Location[:,0])) * a\n",
    "yd = np.mean(Location[:,1]) - np.abs(np.mean(Location[:,1]) - np.min(Location[:,1])) * a\n",
    "yu = np.mean(Location[:,1]) + np.abs(np.mean(Location[:,1]) - np.max(Location[:,1])) * a\n",
    "\n",
    "xu = max(xu, yu);\n",
    "xd = min(xd, yd);\n",
    "ax.set_xlim(xd, xu)\n",
    "ax.set_ylim(xd, xu)\n",
    "plt.show()"
   ]
  },
  {
   "cell_type": "code",
   "execution_count": null,
   "metadata": {
    "collapsed": true
   },
   "outputs": [],
   "source": []
  }
 ],
 "metadata": {
  "kernelspec": {
   "display_name": "Python 3",
   "language": "python",
   "name": "python3"
  },
  "language_info": {
   "codemirror_mode": {
    "name": "ipython",
    "version": 3
   },
   "file_extension": ".py",
   "mimetype": "text/x-python",
   "name": "python",
   "nbconvert_exporter": "python",
   "pygments_lexer": "ipython3",
   "version": "3.5.1"
  }
 },
 "nbformat": 4,
 "nbformat_minor": 0
}
