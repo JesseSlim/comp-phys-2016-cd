{
 "cells": [
  {
   "cell_type": "code",
   "execution_count": 1,
   "metadata": {
    "collapsed": true
   },
   "outputs": [],
   "source": [
    "# Loading of libraries\n",
    "import numpy as np\n",
    "import scipy.spatial.distance"
   ]
  },
  {
   "cell_type": "code",
   "execution_count": 3,
   "metadata": {
    "collapsed": false
   },
   "outputs": [],
   "source": [
    "# Design variables\n",
    "AverageRadius            = 1\n",
    "DeviationRadius          = AverageRadius / 10\n",
    "ParticleCount            = 20\n",
    "Viscosity                = 1E3\n",
    "ViscosityR               = 32 / 3 * Viscosity\n",
    "RotationalViscosity      = 1E3\n",
    "RotationalViscosityR     = 4 * np.pi * RotationalViscosity\n",
    "NeighbourDistance        = 2.7 * AverageRadius\n",
    "SpringConstant           = 1\n",
    "Chi                      = 1         # Rotational viscosity    - 1 in natural units\n",
    "Zeta                     = 1         # Translational visocsity - 1 in natural units\n",
    "k                        = 1         # Sprint constant         - 1 in natural units\n",
    "\n",
    "# Simulation variables\n",
    "TimeStep                 = 0.01\n",
    "L_align                  = 0.1       # Range from 0.1 to 1\n",
    "L_noise                   = 0.04      # Range from 0.04 to 0.08\n",
    "L_F_in                   = 0.3\n",
    "L_T_in                   = 3\n",
    "L_self                   = 0.03\n",
    "T_align                  = L_align * k * Chi / Zeta\n",
    "T_noise                  = np.sqrt(L_noise / Zeta / TimeStep * 2 * k * Chi**2)\n",
    "F_in                     = L_F_in * AverageRadius * k\n",
    "T_in                     = L_T_in * Chi * k / Zeta\n",
    "F_self                   = L_self * k * AverageRadius\n",
    "\n",
    "\n",
    "# Initiate the pengiuins\n",
    "Radius                   = np.random.normal(AverageRadius, DeviationRadius, ParticleCount)\n",
    "Location                 = (np.vstack((\n",
    "                             np.tile(np.arange(0,10), ParticleCount / 10) * 1,\n",
    "                             np.repeat(np.arange(0,ParticleCount / 10), 10) * 1\n",
    "                           ))).T# + np.random.normal(0,1,(ParticleCount,2))\n",
    "Velocity                 = np.zeros([ParticleCount, 2])\n",
    "AngularVelocity          = np.zeros(ParticleCount)\n",
    "Orientation              = np.ones(ParticleCount) * np.pi / 2 + np.random.uniform(-np.pi/4, np.pi/4, ParticleCount)\n"
   ]
  },
  {
   "cell_type": "code",
   "execution_count": 4,
   "metadata": {
    "collapsed": false
   },
   "outputs": [],
   "source": [
    "## This function calculates the force on the particles:\n",
    "# ParticleRadius  = Radius of the particle\n",
    "# ViscosityR      = Scaled viscosity of the system\n",
    "# Velocity        = Velocity of the particle\n",
    "# NeighbourRadius = Radius in which Neighbours can be found\n",
    "def ParticleForce(ParticleRadius, Orientation, NeighbourRadius):\n",
    "    # Particle force = Self-Propulsion + Boundary + Repulsion\n",
    "    Heaviside       = piecewise(NeighbourRadius,\n",
    "                          [NeighbourRadius < pi, NeighbourRadius > np.pi],\n",
    "                          [0, 1])\n",
    "    PropulsionForce = F_self * Orientation\n",
    "    BoundaryForce   = (NeighbourRadius - np.pi) * F_in * Heaviside * Orientation\n",
    "    RepulsionForce  = SpringConstant * sum(NeighbourOverlap)\n",
    "    \n",
    "    return PropulsionForce + BoundaryForce + RepulsionForce\n",
    "\n",
    "    \n",
    "def ParticleTorque(ParticleRadius, RotationalViscosityR):\n",
    "    Heaviside      = piecewise(NeighbourRadius,\n",
    "                          [NeighbourRadius < pi, NeighbourRadius > np.pi],\n",
    "                          [0, 1])\n",
    "    # Particletorque = Self-Torque + Noise + Align\n",
    "    BoundaryToruqe = T_in * deltaTheta * Heaviside\n",
    "    NoiseTorque    = T_noise * random(-1,1,1)\n",
    "    AlignTorque    = T_align * sum(Theta_neighbour_mismatch)\n",
    "    \n",
    "    return BoundaryTorque + NoiseTorque + AlignTorque\n",
    "\n",
    "\n",
    "## This functions creates a list of neighbours for all particles\n",
    "#  ParticleLocations is the Nx2 array containing the locations of the particles\n",
    "def NeighbourList(Location):\n",
    "    Distances = scipy.spatial.distance.squareform(scipy.spatial.distance.pdist(Location))\n",
    "    Neighbours = np.nonzero(Distances < 2.7);\n",
    "    return Neighbours\n",
    "    \n",
    "def NeighbourRadius(Location, Neighbours, ParticleCount):\n",
    "    Angles = np.arctan2(Location[Neighbours[1],:], Location[[Neighbours[0]],:])\n",
    "    AvgAngle = np.zeros([ParticleCount])\n",
    "    print(AvgAngle.shape)\n",
    "    for i in range(0, ParticleCount):\n",
    "        AnglesT = Neighbours[0] == i\n",
    "        print(np.sum(AnglesT))\n",
    "        A = np.nonzero(AnglesT)[0];\n",
    "        print(A)\n",
    "        AvgAngle[i] = np.sum(Angles[np.nonzero(AnglesT)[0]]) / np.sum(AnglesT);\n",
    "    print(AvgAngle)\n",
    "    return;"
   ]
  },
  {
   "cell_type": "code",
   "execution_count": 5,
   "metadata": {
    "collapsed": false
   },
   "outputs": [
    {
     "name": "stdout",
     "output_type": "stream",
     "text": [
      "(array([ 0,  0,  0,  0,  0,  0,  1,  1,  1,  1,  1,  1,  1,  1,  2,  2,  2,\n",
      "        2,  2,  2,  2,  2,  2,  2,  3,  3,  3,  3,  3,  3,  3,  3,  3,  3,\n",
      "        4,  4,  4,  4,  4,  4,  4,  4,  4,  4,  5,  5,  5,  5,  5,  5,  5,\n",
      "        5,  5,  5,  6,  6,  6,  6,  6,  6,  6,  6,  6,  6,  7,  7,  7,  7,\n",
      "        7,  7,  7,  7,  7,  7,  8,  8,  8,  8,  8,  8,  8,  8,  9,  9,  9,\n",
      "        9,  9,  9, 10, 10, 10, 10, 10, 10, 11, 11, 11, 11, 11, 11, 11, 11,\n",
      "       12, 12, 12, 12, 12, 12, 12, 12, 12, 12, 13, 13, 13, 13, 13, 13, 13,\n",
      "       13, 13, 13, 14, 14, 14, 14, 14, 14, 14, 14, 14, 14, 15, 15, 15, 15,\n",
      "       15, 15, 15, 15, 15, 15, 16, 16, 16, 16, 16, 16, 16, 16, 16, 16, 17,\n",
      "       17, 17, 17, 17, 17, 17, 17, 17, 17, 18, 18, 18, 18, 18, 18, 18, 18,\n",
      "       19, 19, 19, 19, 19, 19]), array([ 0,  1,  2, 10, 11, 12,  0,  1,  2,  3, 10, 11, 12, 13,  0,  1,  2,\n",
      "        3,  4, 10, 11, 12, 13, 14,  1,  2,  3,  4,  5, 11, 12, 13, 14, 15,\n",
      "        2,  3,  4,  5,  6, 12, 13, 14, 15, 16,  3,  4,  5,  6,  7, 13, 14,\n",
      "       15, 16, 17,  4,  5,  6,  7,  8, 14, 15, 16, 17, 18,  5,  6,  7,  8,\n",
      "        9, 15, 16, 17, 18, 19,  6,  7,  8,  9, 16, 17, 18, 19,  7,  8,  9,\n",
      "       17, 18, 19,  0,  1,  2, 10, 11, 12,  0,  1,  2,  3, 10, 11, 12, 13,\n",
      "        0,  1,  2,  3,  4, 10, 11, 12, 13, 14,  1,  2,  3,  4,  5, 11, 12,\n",
      "       13, 14, 15,  2,  3,  4,  5,  6, 12, 13, 14, 15, 16,  3,  4,  5,  6,\n",
      "        7, 13, 14, 15, 16, 17,  4,  5,  6,  7,  8, 14, 15, 16, 17, 18,  5,\n",
      "        6,  7,  8,  9, 15, 16, 17, 18, 19,  6,  7,  8,  9, 16, 17, 18, 19,\n",
      "        7,  8,  9, 17, 18, 19]))\n"
     ]
    },
    {
     "ename": "NameError",
     "evalue": "name 'Force' is not defined",
     "output_type": "error",
     "traceback": [
      "\u001b[0;31m---------------------------------------------------------------------------\u001b[0m",
      "\u001b[0;31mNameError\u001b[0m                                 Traceback (most recent call last)",
      "\u001b[0;32m<ipython-input-5-56e863146b86>\u001b[0m in \u001b[0;36m<module>\u001b[0;34m()\u001b[0m\n\u001b[1;32m     11\u001b[0m     \u001b[0;31m# velocity verlet for torque\u001b[0m\u001b[0;34m\u001b[0m\u001b[0;34m\u001b[0m\u001b[0m\n\u001b[1;32m     12\u001b[0m     \u001b[0mAngularVelocityIntermediate\u001b[0m\u001b[0;34m[\u001b[0m\u001b[0;34m:\u001b[0m\u001b[0;34m]\u001b[0m \u001b[0;34m=\u001b[0m \u001b[0mAngularVelocity\u001b[0m\u001b[0;34m[\u001b[0m\u001b[0;34m:\u001b[0m\u001b[0;34m]\u001b[0m \u001b[0;34m*\u001b[0m \u001b[0mTimeStep\u001b[0m\u001b[0;34m\u001b[0m\u001b[0m\n\u001b[0;32m---> 13\u001b[0;31m     \u001b[0mForce\u001b[0m\u001b[0;34m\u001b[0m\u001b[0m\n\u001b[0m\u001b[1;32m     14\u001b[0m     \u001b[0mVelocityWiggle\u001b[0m \u001b[0;34m=\u001b[0m \u001b[0mVe\u001b[0m\u001b[0;34m\u001b[0m\u001b[0m\n",
      "\u001b[0;31mNameError\u001b[0m: name 'Force' is not defined"
     ]
    }
   ],
   "source": [
    "Neighbours = NeighbourList(Location)\n",
    "print(Neighbours)\n",
    "#NeighbourRadius(Location, Neighbours, ParticleCount);\n",
    "#print(Location[[Neighbours[0]],:])\n",
    "#print(Neighbours);\n",
    "\n",
    "AngularVelocityIntermediate = np.zeros(ParticleCount)\n",
    "Torque = np.zeros(ParticeCount)\n",
    "\n",
    "VelocityIntermediate = np.zeros(ParticleCount, 2)\n",
    "Force = np.zeros(ParticleCount, 2)\n",
    "\n",
    "max_steps = np.int(1E3);\n",
    "\n",
    "Torque[:] = ParticleTorque(ParticleRadius, RotationalViscosityR)\n",
    "Force[:] = ParticleForce(ParticleRadius, Orientation, NeighbourRadius)\n",
    "for t in range(0,max_steps):\n",
    "    # velocity verlet for torque\n",
    "    # torque is still set from previous step\n",
    "    AngularVelocityIntermediate[:] = AngularVelocity + TimeStep * Torque / 2\n",
    "    Orientation[:] += TimeStep * AngularVelocityIntermediate\n",
    "    \n",
    "    Torque[:] = ParticleTorque(ParticleRadius, RotationalViscosityR)\n",
    "    AngularVelocity[:] = AngularVelocityIntermediate + TimeStep * Torque / 2\n",
    "    \n",
    "    # velocity verlet for force\n",
    "    # force is still set from \n",
    "    VelocityIntermediate[:] = Velocity + TimeStep * Force / 2\n",
    "    Location[:] += TimeStep * VelocityIntermediate\n",
    "    \n",
    "    Force[:] = ParticleForce(ParticleRadius, Orientation, NeighbourRadius)\n",
    "    Velocity[:] = VelocityIntermediate + TimeStep * Force / 2"
   ]
  },
  {
   "cell_type": "code",
   "execution_count": null,
   "metadata": {
    "collapsed": true
   },
   "outputs": [],
   "source": []
  },
  {
   "cell_type": "code",
   "execution_count": null,
   "metadata": {
    "collapsed": true
   },
   "outputs": [],
   "source": []
  }
 ],
 "metadata": {
  "kernelspec": {
   "display_name": "Python 3",
   "language": "python",
   "name": "python3"
  },
  "language_info": {
   "codemirror_mode": {
    "name": "ipython",
    "version": 3
   },
   "file_extension": ".py",
   "mimetype": "text/x-python",
   "name": "python",
   "nbconvert_exporter": "python",
   "pygments_lexer": "ipython3",
   "version": "3.5.1"
  }
 },
 "nbformat": 4,
 "nbformat_minor": 0
}
